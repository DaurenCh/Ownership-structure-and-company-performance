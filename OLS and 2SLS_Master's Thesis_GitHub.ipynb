{
 "cells": [
  {
   "cell_type": "markdown",
   "id": "0b82a280",
   "metadata": {
    "papermill": {
     "duration": 0.010883,
     "end_time": "2022-09-18T11:15:02.507732",
     "exception": false,
     "start_time": "2022-09-18T11:15:02.496849",
     "status": "completed"
    },
    "tags": []
   },
   "source": [
    "<h1 align=\"center\">Ownership structure and company’s performance: evidence from Russia’s publicly listed companies</h1> \n",
    "\n",
    "## <center>Objectives</center>\n",
    "The primary objective of this thesis is to investigate the relationship between ownership structure and firm performance in Russian publicly listed companies during the period from 2014 to 2018. The study focuses on assessing how both managerial and state shareholdings influence the performance of these firms. To achieve this, the analysis begins with an examination of individual firm-level data. Subsequently, a portfolio-based approach is employed to evaluate the impact of state ownership on the stock performance of these firms (refer to the notebook titled 'Portfolio Performance T-test'). The evaluation of firm performance is based on average values of market-to-book equity ratio (M/B) and return on assets (ROA) for the years 2015 to 2018. The ownership structure of the companies is measured using data from the year 2014. The complete text of this thesis is available for reference in [Electronic Theses & Dissertations Center](http://rave.ohiolink.edu/etdc/view?acc_num=ysu158920696033375)."
   ]
  },
  {
   "cell_type": "code",
   "execution_count": 131,
   "id": "16c75c3b",
   "metadata": {
    "execution": {
     "iopub.execute_input": "2022-09-18T11:15:02.529462Z",
     "iopub.status.busy": "2022-09-18T11:15:02.527737Z",
     "iopub.status.idle": "2022-09-18T11:15:33.188501Z",
     "shell.execute_reply": "2022-09-18T11:15:33.187164Z"
    },
    "papermill": {
     "duration": 30.675917,
     "end_time": "2022-09-18T11:15:33.192806",
     "exception": false,
     "start_time": "2022-09-18T11:15:02.516889",
     "status": "completed"
    },
    "tags": []
   },
   "outputs": [],
   "source": [
    "# install libraries\n",
    "import pandas as pd\n",
    "import statsmodels.api as sm\n",
    "import seaborn as sns\n",
    "from matplotlib import pyplot as plt\n",
    "from statsmodels.stats.diagnostic import het_white\n",
    "from linearmodels.iv import IV2SLS\n",
    "\n",
    "# Install necessary packages (if not already installed)\n",
    "# !pip install linearmodels"
   ]
  },
  {
   "cell_type": "code",
   "execution_count": 132,
   "id": "4afea3eb",
   "metadata": {
    "execution": {
     "iopub.execute_input": "2022-09-18T11:15:33.221511Z",
     "iopub.status.busy": "2022-09-18T11:15:33.220996Z",
     "iopub.status.idle": "2022-09-18T11:15:33.971780Z",
     "shell.execute_reply": "2022-09-18T11:15:33.969406Z"
    },
    "papermill": {
     "duration": 0.77102,
     "end_time": "2022-09-18T11:15:33.975267",
     "exception": false,
     "start_time": "2022-09-18T11:15:33.204247",
     "status": "completed"
    },
    "tags": []
   },
   "outputs": [],
   "source": [
    "# Read data from an Excel file with error handling\n",
    "try:\n",
    "    df = pd.read_excel(\n",
    "        r'C:\\Users\\daure\\Desktop\\Google Data Analytics\\Capstone\\OLS and 2SLS_MB regression_Python.xlsx',\n",
    "        sheet_name=\"Main\", header=0, index_col=0\n",
    "    )\n",
    "except Exception as e:\n",
    "    print(f\"Error reading Excel file: {str(e)}\")"
   ]
  },
  {
   "cell_type": "code",
   "execution_count": 133,
   "id": "671fdfb9",
   "metadata": {},
   "outputs": [
    {
     "name": "stdout",
     "output_type": "stream",
     "text": [
      "                         Industry  SHM  SHST  SqSHM  SqSHST    MB  CXP_Assets  \\\n",
      "#                                                                               \n",
      "1                       Financial  0.0  0.00   0.00    0.00  0.86        0.00   \n",
      "2               Metals and Mining  0.0  0.69   0.00    0.47  2.62        0.09   \n",
      "3                       Financial  0.0  0.61   0.00    0.37  0.52        0.00   \n",
      "4                        Consumer  0.0  0.00   0.00    0.00  3.57        0.08   \n",
      "5                       Financial  0.3  0.00   0.09    0.00  2.53        0.00   \n",
      "..                            ...  ...   ...    ...     ...   ...         ...   \n",
      "202                     Financial  0.0  0.00   0.00    0.00  0.53        0.00   \n",
      "203                   Industrials  0.0  0.27   0.00    0.07 -0.53        0.12   \n",
      "204             Metals and Mining  0.0  0.00   0.00    0.00  1.39        0.10   \n",
      "205                   Industrials  0.0  0.00   0.00    0.00  0.68        0.04   \n",
      "206  Chemicals and Pertochemicals  0.0  0.00   0.00    0.00  0.32        0.03   \n",
      "\n",
      "     LTD_Assets  Dummy_overvalued  Dummy_undervalued  DummyBANKS  DummyElecUt  \\\n",
      "#                                                                               \n",
      "1          0.18                 0                  1           1            0   \n",
      "2          0.45                 1                  0           0            0   \n",
      "3          0.13                 0                  1           1            0   \n",
      "4          0.33                 1                  0           0            0   \n",
      "5          0.00                 1                  0           0            0   \n",
      "..          ...               ...                ...         ...          ...   \n",
      "202        0.13                 0                  1           1            0   \n",
      "203        0.18                 1                  0           0            0   \n",
      "204        0.00                 1                  0           0            0   \n",
      "205        0.00                 0                  1           0            0   \n",
      "206        0.01                 0                  1           0            0   \n",
      "\n",
      "     overvalSHM  overvalSHST  \n",
      "#                             \n",
      "1           0.0         0.00  \n",
      "2           0.0         0.69  \n",
      "3           0.0         0.00  \n",
      "4           0.0         0.00  \n",
      "5           0.3         0.00  \n",
      "..          ...          ...  \n",
      "202         0.0         0.00  \n",
      "203         0.0         0.27  \n",
      "204         0.0         0.00  \n",
      "205         0.0         0.00  \n",
      "206         0.0         0.00  \n",
      "\n",
      "[206 rows x 14 columns]\n"
     ]
    }
   ],
   "source": [
    "# Display DataFrame with rounded values\n",
    "print(df.round(2))"
   ]
  },
  {
   "cell_type": "code",
   "execution_count": 134,
   "id": "08380032",
   "metadata": {
    "execution": {
     "iopub.execute_input": "2022-09-18T11:15:34.002819Z",
     "iopub.status.busy": "2022-09-18T11:15:34.002340Z",
     "iopub.status.idle": "2022-09-18T11:15:34.009313Z",
     "shell.execute_reply": "2022-09-18T11:15:34.007648Z"
    },
    "papermill": {
     "duration": 0.024257,
     "end_time": "2022-09-18T11:15:34.012079",
     "exception": false,
     "start_time": "2022-09-18T11:15:33.987822",
     "status": "completed"
    },
    "tags": []
   },
   "outputs": [
    {
     "name": "stdout",
     "output_type": "stream",
     "text": [
      "['Industry', 'SHM', 'SHST', 'SqSHM', 'SqSHST', 'MB', 'CXP_Assets', 'LTD_Assets', 'Dummy_overvalued', 'Dummy_undervalued', 'DummyBANKS', 'DummyElecUt', 'overvalSHM', 'overvalSHST']\n"
     ]
    }
   ],
   "source": [
    "# Display column names of the DataFrame\n",
    "print(df.columns.tolist())"
   ]
  },
  {
   "cell_type": "code",
   "execution_count": 135,
   "id": "712a3e8a",
   "metadata": {
    "execution": {
     "iopub.execute_input": "2022-09-18T11:15:34.036312Z",
     "iopub.status.busy": "2022-09-18T11:15:34.035915Z",
     "iopub.status.idle": "2022-09-18T11:15:34.091777Z",
     "shell.execute_reply": "2022-09-18T11:15:34.090499Z"
    },
    "papermill": {
     "duration": 0.071191,
     "end_time": "2022-09-18T11:15:34.094442",
     "exception": false,
     "start_time": "2022-09-18T11:15:34.023251",
     "status": "completed"
    },
    "tags": []
   },
   "outputs": [
    {
     "name": "stdout",
     "output_type": "stream",
     "text": [
      "          SHM    SHST   SqSHM  SqSHST      MB  CXP_Assets  LTD_Assets  \\\n",
      "count  206.00  206.00  206.00  206.00  206.00      206.00      206.00   \n",
      "mean     0.09    0.26    0.05    0.19    1.42        0.05        0.18   \n",
      "std      0.21    0.35    0.15    0.30    3.01        0.06        0.28   \n",
      "min      0.00    0.00    0.00    0.00  -10.86        0.00        0.00   \n",
      "25%      0.00    0.00    0.00    0.00    0.36        0.00        0.00   \n",
      "50%      0.00    0.00    0.00    0.00    0.85        0.04        0.12   \n",
      "75%      0.00    0.52    0.00    0.27    1.86        0.09        0.27   \n",
      "max      0.96    1.00    0.93    1.00   21.20        0.25        3.16   \n",
      "\n",
      "       overvalSHM  overvalSHST  \n",
      "count      206.00       206.00  \n",
      "mean         0.05         0.11  \n",
      "std          0.15         0.26  \n",
      "min          0.00         0.00  \n",
      "25%          0.00         0.00  \n",
      "50%          0.00         0.00  \n",
      "75%          0.00         0.00  \n",
      "max          0.81         0.99  \n"
     ]
    }
   ],
   "source": [
    "# Descriptive statistics (excluding dummy variables)\n",
    "desc_columns = ['SHM', 'SHST', 'SqSHM', 'SqSHST', 'MB', 'CXP_Assets', 'LTD_Assets', 'overvalSHM', 'overvalSHST']\n",
    "desc_stats = df[desc_columns].describe().round(2)\n",
    "print(desc_stats)"
   ]
  },
  {
   "cell_type": "markdown",
   "id": "dd82ff5c",
   "metadata": {
    "papermill": {
     "duration": 0.011947,
     "end_time": "2022-09-18T11:15:34.118643",
     "exception": false,
     "start_time": "2022-09-18T11:15:34.106696",
     "status": "completed"
    },
    "tags": []
   },
   "source": [
    "### Description of the variables\n",
    "|<center>Abbreviation for variable<center>|<center>Explanation<center>|\n",
    "|---|---|\n",
    "|<center>MB</center> |<center>The ratio of equity market value over book value</center>|\n",
    "|<center>overval|1, if M/B>1 or M/B < 0, 0 otherwise<center>|\n",
    "|<center>SHM<center>|<center>Share owned by executive managers<center>|\n",
    "|<center>SHST<center>|<center>Share owned by the state<center>|\n",
    "|<center>SqSHM<center>|<center>Squared value of share owned by executive managers<center>|\n",
    "|<center>SqSHST<center>|<center>Squared value of share owned by the state<center>|\n",
    "|<center>DummyBANKS<center>|<center>1, if a firm is a commercial bank, 0 otherwise<center>|\n",
    "|<center>DummyElecUt<center>|<center>1, if a firm is an electric utility, 0 otherwise<center>|\n",
    "|<center>overvalSHM<center>|<center>Share owned by managers in overvalued companies<center>|\n",
    "|<center>overvalSHST<center>|<center>Share owned by the state in overvalued companies<center>|\n",
    "|<center>ROA<center>|<center>Return on assets<center>|\n",
    "|<center>CXP<center>|<center>Capital expenditures over assets<center>|\n",
    "|<center>LTD<center>|<center>Long-term debt over assets<center>|"
   ]
  },
  {
   "cell_type": "code",
   "execution_count": 136,
   "id": "99224d5b",
   "metadata": {
    "execution": {
     "iopub.execute_input": "2022-09-18T11:15:34.145196Z",
     "iopub.status.busy": "2022-09-18T11:15:34.144767Z",
     "iopub.status.idle": "2022-09-18T11:15:34.169163Z",
     "shell.execute_reply": "2022-09-18T11:15:34.167290Z"
    },
    "papermill": {
     "duration": 0.040681,
     "end_time": "2022-09-18T11:15:34.171408",
     "exception": false,
     "start_time": "2022-09-18T11:15:34.130727",
     "status": "completed"
    },
    "tags": []
   },
   "outputs": [
    {
     "name": "stdout",
     "output_type": "stream",
     "text": [
      "                    SHM  SHST  SqSHM  SqSHST    MB  CXP_Assets  LTD_Assets  \\\n",
      "SHM                1.00 -0.31   0.95   -0.27  0.03       -0.04        0.05   \n",
      "SHST              -0.31  1.00  -0.25    0.97 -0.14        0.27       -0.00   \n",
      "SqSHM              0.95 -0.25   1.00   -0.22  0.00       -0.04        0.07   \n",
      "SqSHST            -0.27  0.97  -0.22    1.00 -0.12        0.23        0.00   \n",
      "MB                 0.03 -0.14   0.00   -0.12  1.00       -0.01        0.01   \n",
      "CXP_Assets        -0.04  0.27  -0.04    0.23 -0.01        1.00        0.23   \n",
      "LTD_Assets         0.05 -0.00   0.07    0.00  0.01        0.23        1.00   \n",
      "Dummy_overvalued  -0.02 -0.14  -0.04   -0.14  0.28       -0.07        0.16   \n",
      "Dummy_undervalued  0.02  0.14   0.04    0.14 -0.28        0.07       -0.16   \n",
      "DummyBANKS        -0.09 -0.13  -0.08   -0.13 -0.04       -0.26       -0.08   \n",
      "DummyElecUt       -0.21  0.23  -0.17    0.18 -0.18        0.05       -0.10   \n",
      "overvalSHM         0.66 -0.22   0.58   -0.19  0.12        0.02        0.10   \n",
      "overvalSHST       -0.18  0.57  -0.15    0.54 -0.01       -0.03        0.02   \n",
      "\n",
      "                   Dummy_overvalued  Dummy_undervalued  DummyBANKS  \\\n",
      "SHM                           -0.02               0.02       -0.09   \n",
      "SHST                          -0.14               0.14       -0.13   \n",
      "SqSHM                         -0.04               0.04       -0.08   \n",
      "SqSHST                        -0.14               0.14       -0.13   \n",
      "MB                             0.28              -0.28       -0.04   \n",
      "CXP_Assets                    -0.07               0.07       -0.26   \n",
      "LTD_Assets                     0.16              -0.16       -0.08   \n",
      "Dummy_overvalued               1.00              -1.00       -0.10   \n",
      "Dummy_undervalued             -1.00               1.00        0.10   \n",
      "DummyBANKS                    -0.10               0.10        1.00   \n",
      "DummyElecUt                   -0.06               0.06       -0.15   \n",
      "overvalSHM                     0.28              -0.28       -0.08   \n",
      "overvalSHST                    0.40              -0.40       -0.08   \n",
      "\n",
      "                   DummyElecUt  overvalSHM  overvalSHST  \n",
      "SHM                      -0.21        0.66        -0.18  \n",
      "SHST                      0.23       -0.22         0.57  \n",
      "SqSHM                    -0.17        0.58        -0.15  \n",
      "SqSHST                    0.18       -0.19         0.54  \n",
      "MB                       -0.18        0.12        -0.01  \n",
      "CXP_Assets                0.05        0.02        -0.03  \n",
      "LTD_Assets               -0.10        0.10         0.02  \n",
      "Dummy_overvalued         -0.06        0.28         0.40  \n",
      "Dummy_undervalued         0.06       -0.28        -0.40  \n",
      "DummyBANKS               -0.15       -0.08        -0.08  \n",
      "DummyElecUt               1.00       -0.13         0.10  \n",
      "overvalSHM               -0.13        1.00        -0.12  \n",
      "overvalSHST               0.10       -0.12         1.00  \n"
     ]
    }
   ],
   "source": [
    "# Correlation matrix of variables used in the regression of M/B\n",
    "corr_matrix = df.corr().round(2)\n",
    "print(corr_matrix)"
   ]
  },
  {
   "cell_type": "markdown",
   "id": "47a79e81",
   "metadata": {
    "papermill": {
     "duration": 0.012057,
     "end_time": "2022-09-18T11:15:34.195163",
     "exception": false,
     "start_time": "2022-09-18T11:15:34.183106",
     "status": "completed"
    },
    "tags": []
   },
   "source": [
    "### Empirical method\n",
    "#### Investigating Firm Performance and Ownership Structure\n",
    "In this analysis, we utilize both standard linear and two-stage least-squares regressions to explore the relationship between ownership structure and firm performance.\n",
    "\n",
    "#### Standard Linear Regression vs. Two-Stage Least-Squares Regression\n",
    "Standard Linear Regression: Typically, standard linear regression assumes that errors in the dependent variable are uncorrelated with independent variables. However, when explanatory variables are endogenous (correlated with the error terms), linear regression using ordinary least squares (OLS) can produce inconsistent model estimates, leading to incorrect results.\n",
    "\n",
    "Two-Stage Least-Squares Regression: To address endogeneity, we turn to two-stage least-squares regression. This approach employs instrumental (control) variables that are uncorrelated with the error terms. In the first stage, these instrumental variables are used to compute estimated values of the problematic predictor(s). Then, in the second stage, these calculated values are employed to determine a linear regression model of the dependent variable. Academics consider this two-stage model optimal as it produces consistent results even when instrumental variables are weak. However, it's important to note that if the instrumental variables are weak, the estimated coefficients in the two-stage regression can still be biased, although possibly consistent.\n",
    "\n",
    "#### Additional Factors and Instrumental Variables\n",
    "Apart from ownership structure, various factors can impact a company's performance, including its size and the quality of its workforce. Moreover, these unobserved factors may simultaneously influence both ownership structure and the market-to-book equity ratio (M/B). To address this complexity, we introduce two instrumental variables: capital expenditures and long-term debt. Data on these variables is extracted from firms' financial statements. Specifically, capital expenditures are obtained from cash flow statements, while long-term debt information is collected from balance sheets. We normalize these values by dividing them by total assets to make them compatible with the M/B ratio.\n",
    "\n",
    "#### Use of Long-Term Debt and Capital Expenditures as Instrumental Variables\n",
    "Long-term debt serves as an instrumental variable because it correlates with a firm's market value. This relationship is attributed to the existence of tax subsidies on interest payments, causing the firm's value to increase with the amount of debt financing. Higher debt, holding other factors constant, leads to a higher market valuation of the company.\n",
    "\n",
    "Capital expenditures are employed as a second instrumental variable due to evidence suggesting that higher investments are associated with a higher firm value.\n",
    "\n",
    "#### Differentiating Managerial and State Ownership\n",
    "Given the different motivations of managers and the state, we treat managerial shareholdings as a possible endogenous variable in our analysis. In contrast, we do not employ state-owned stock for the endogeneity test. We assume that managerial ownership is driven by the goal of maximizing personal income, while state ownership is primarily control-driven. Consequently, we use distinct instrumental variables for state and managerial ownership.\n",
    "\n",
    "#### Inclusion of Dummy Variables\n",
    "In our regression analysis, we incorporate several dummy variables to account for industry-specific effects:\n",
    "\n",
    "Electric Utility Industry: 51 out of the 213 companies analyzed are associated with the electric utility industry, which is heavily regulated by the state, particularly concerning electricity tariffs. Additionally, 28 companies from this industry are directly controlled by the state. To capture the financial performance disparities in this sector, we introduce a dummy variable for electric utilities.\n",
    "\n",
    "Commercial Banks: Recognizing the high level of regulation in the commercial banking sector, we include a dummy variable for commercial banks.\n",
    "\n",
    "#### M/B Analysis and Dummy Variables\n",
    "In the context of M/B analysis, we employ a dummy variable to categorize companies as undervalued or overvalued based on the M/B ratio. Specifically:\n",
    "\n",
    "If the M/B of a firm exceeds one or is less than zero, we classify it as overvalued.\n",
    "If the M/B of a firm falls below one but is greater than or equal to zero, we categorize it as undervalued.\n",
    "Additionally, we create several interaction dummy variables to investigate the impact of managerial and state shareholdings in overvalued firms.\n",
    "\n",
    "#### Regression Sequence\n",
    "Our analysis follows these steps:\n",
    "\n",
    "We begin with a single OLS regression of the M/B ratio on shareholdings by managers, the state, and the relevant dummy variables.\n",
    "Subsequently, we conduct a second single regression on the M/B ratio. In this regression, we introduce squared values for both managerial and state shareholdings. This step aims to explore the possibility of a non-linear relationship between firm performance and ownership structure.\n",
    "In the next stage, we perform two-stage least-squares regressions with additional control variables. If the test results indicate that managerial shareholdings are exogenous, we revisit the single OLS regressions for further exploration. Specifically, we assess these models for heteroscedasticity.\n",
    "These steps are designed to comprehensively examine the complex interplay between ownership structure and firm performance, considering both linear and non-linear relationships and potential endogeneity issues.\n",
    "\n",
    "By following this structured approach, we aim to gain a deeper understanding of how ownership structure impacts the performance of Russia's publicly listed companies."
   ]
  },
  {
   "cell_type": "code",
   "execution_count": 137,
   "id": "68cefca4",
   "metadata": {
    "execution": {
     "iopub.execute_input": "2022-09-18T11:15:34.221806Z",
     "iopub.status.busy": "2022-09-18T11:15:34.221242Z",
     "iopub.status.idle": "2022-09-18T11:15:34.227020Z",
     "shell.execute_reply": "2022-09-18T11:15:34.225640Z"
    },
    "papermill": {
     "duration": 0.022337,
     "end_time": "2022-09-18T11:15:34.229743",
     "exception": false,
     "start_time": "2022-09-18T11:15:34.207406",
     "status": "completed"
    },
    "tags": []
   },
   "outputs": [],
   "source": [
    "# Identify dependent and independent variables\n",
    "dep_var = df['MB']\n",
    "expl_var = df[['SHM', 'SHST', 'DummyBANKS', 'DummyElecUt', 'overvalSHM', 'overvalSHST']]\n",
    "# Add the constant term\n",
    "expl_var = sm.add_constant(expl_var)"
   ]
  },
  {
   "cell_type": "code",
   "execution_count": 138,
   "id": "3f205b94",
   "metadata": {
    "execution": {
     "iopub.execute_input": "2022-09-18T11:15:34.328053Z",
     "iopub.status.busy": "2022-09-18T11:15:34.327565Z",
     "iopub.status.idle": "2022-09-18T11:15:34.367063Z",
     "shell.execute_reply": "2022-09-18T11:15:34.365522Z"
    },
    "papermill": {
     "duration": 0.0554,
     "end_time": "2022-09-18T11:15:34.369610",
     "exception": false,
     "start_time": "2022-09-18T11:15:34.314210",
     "status": "completed"
    },
    "tags": []
   },
   "outputs": [],
   "source": [
    "# performing the regression and fitting the first model\n",
    "ols_model = sm.OLS(dep_var, expl_var).fit()"
   ]
  },
  {
   "cell_type": "code",
   "execution_count": 139,
   "id": "0cd083f2",
   "metadata": {},
   "outputs": [
    {
     "name": "stdout",
     "output_type": "stream",
     "text": [
      "                            OLS Regression Results                            \n",
      "==============================================================================\n",
      "Dep. Variable:                     MB   R-squared:                       0.073\n",
      "Model:                            OLS   Adj. R-squared:                  0.046\n",
      "Method:                 Least Squares   F-statistic:                     2.630\n",
      "Date:                Tue, 05 Dec 2023   Prob (F-statistic):             0.0178\n",
      "Time:                        23:24:25   Log-Likelihood:                -511.18\n",
      "No. Observations:                 206   AIC:                             1036.\n",
      "Df Residuals:                     199   BIC:                             1060.\n",
      "Df Model:                           6                                         \n",
      "Covariance Type:            nonrobust                                         \n",
      "===============================================================================\n",
      "                  coef    std err          t      P>|t|      [0.025      0.975]\n",
      "-------------------------------------------------------------------------------\n",
      "const           2.1150      0.331      6.384      0.000       1.462       2.768\n",
      "SHM            -2.3904      1.361     -1.757      0.080      -5.073       0.293\n",
      "SHST           -1.4668      0.753     -1.949      0.053      -2.951       0.017\n",
      "DummyBANKS     -1.0072      0.841     -1.198      0.232      -2.665       0.651\n",
      "DummyElecUt    -1.2385      0.501     -2.473      0.014      -2.226      -0.251\n",
      "overvalSHM      3.3948      1.799      1.887      0.061      -0.152       6.942\n",
      "overvalSHST     0.9929      0.956      1.039      0.300      -0.891       2.877\n",
      "==============================================================================\n",
      "Omnibus:                      115.163   Durbin-Watson:                   2.227\n",
      "Prob(Omnibus):                  0.000   Jarque-Bera (JB):             1744.237\n",
      "Skew:                           1.745   Prob(JB):                         0.00\n",
      "Kurtosis:                      16.822   Cond. No.                         10.9\n",
      "==============================================================================\n",
      "\n",
      "Notes:\n",
      "[1] Standard Errors assume that the covariance matrix of the errors is correctly specified.\n"
     ]
    }
   ],
   "source": [
    "# Print regression summary\n",
    "print(ols_model.summary())"
   ]
  },
  {
   "cell_type": "markdown",
   "id": "afdd56ae",
   "metadata": {
    "papermill": {
     "duration": 0.011249,
     "end_time": "2022-09-18T11:15:34.392833",
     "exception": false,
     "start_time": "2022-09-18T11:15:34.381584",
     "status": "completed"
    },
    "tags": []
   },
   "source": [
    "I start with a single OLS regression of M/B on shareholdings of managers and state, and the dummy variables:  \n",
    "MB = 2.11 − 2.39 ∗ SHM − 1.47 ∗ SHST − 1.01 ∗ DummyBANKS − 1.24 * DummyElecUt + 3.39* overvalSHM + 0.99 ∗ overvalSHST + 𝜀\n",
    "\n",
    "Based on the regression results, two key findings stand out:\n",
    "\n",
    "Electric Utilities Industry Impact: The coefficients of the dummy variable representing the electric utilities industry and the constant term in the model are statistically significant. Specifically, the coefficient of the dummy variable for electric utilities being statistically significant implies that this industry has a notable impact on the market-to-book equity ratio (M/B). The coefficient value of -1.24 indicates that, on average, companies associated with the electric utilities sector have a lower M/B compared to firms in other industries. In other words, their market valuation relative to stockholders' equity tends to be lower.\n",
    "\n",
    "Joint Significance of Explanatory Variables: While all the other explanatory variables in this model (including managerial and state shareholdings, overvaluation-related variables, and industry-specific dummy variables) may not individually exhibit statistical significance, it's important to note that they are jointly significant. This means that, as a group, these variables collectively contribute to explaining variations in the M/B ratio."
   ]
  },
  {
   "cell_type": "code",
   "execution_count": 140,
   "id": "e9d9957f",
   "metadata": {
    "execution": {
     "iopub.execute_input": "2022-09-18T11:15:34.417996Z",
     "iopub.status.busy": "2022-09-18T11:15:34.417600Z",
     "iopub.status.idle": "2022-09-18T11:15:34.424282Z",
     "shell.execute_reply": "2022-09-18T11:15:34.423232Z"
    },
    "papermill": {
     "duration": 0.022071,
     "end_time": "2022-09-18T11:15:34.426611",
     "exception": false,
     "start_time": "2022-09-18T11:15:34.404540",
     "status": "completed"
    },
    "tags": []
   },
   "outputs": [],
   "source": [
    "# identifying independent variables for the second model\n",
    "# adding the squared values of the SHM & SHST into the regression\n",
    "expl_var2 = df[['SHM', 'SHST', 'DummyBANKS',\n",
    "               'DummyElecUt', 'overvalSHM',\n",
    "               'overvalSHST', 'SqSHM', 'SqSHST']]"
   ]
  },
  {
   "cell_type": "code",
   "execution_count": 141,
   "id": "859c8901",
   "metadata": {
    "execution": {
     "iopub.execute_input": "2022-09-18T11:15:34.451784Z",
     "iopub.status.busy": "2022-09-18T11:15:34.451370Z",
     "iopub.status.idle": "2022-09-18T11:15:34.459891Z",
     "shell.execute_reply": "2022-09-18T11:15:34.458490Z"
    },
    "papermill": {
     "duration": 0.024118,
     "end_time": "2022-09-18T11:15:34.462306",
     "exception": false,
     "start_time": "2022-09-18T11:15:34.438188",
     "status": "completed"
    },
    "tags": []
   },
   "outputs": [],
   "source": [
    "# adding the constant term for the first model\n",
    "expl_var2 = sm.add_constant(expl_var2)"
   ]
  },
  {
   "cell_type": "code",
   "execution_count": 142,
   "id": "99cf5c4a",
   "metadata": {
    "execution": {
     "iopub.execute_input": "2022-09-18T11:15:34.488000Z",
     "iopub.status.busy": "2022-09-18T11:15:34.487535Z",
     "iopub.status.idle": "2022-09-18T11:15:34.514360Z",
     "shell.execute_reply": "2022-09-18T11:15:34.512873Z"
    },
    "papermill": {
     "duration": 0.043065,
     "end_time": "2022-09-18T11:15:34.517001",
     "exception": false,
     "start_time": "2022-09-18T11:15:34.473936",
     "status": "completed"
    },
    "tags": []
   },
   "outputs": [
    {
     "data": {
      "text/html": [
       "<table class=\"simpletable\">\n",
       "<caption>OLS Regression Results</caption>\n",
       "<tr>\n",
       "  <th>Dep. Variable:</th>           <td>MB</td>        <th>  R-squared:         </th> <td>   0.074</td>\n",
       "</tr>\n",
       "<tr>\n",
       "  <th>Model:</th>                   <td>OLS</td>       <th>  Adj. R-squared:    </th> <td>   0.036</td>\n",
       "</tr>\n",
       "<tr>\n",
       "  <th>Method:</th>             <td>Least Squares</td>  <th>  F-statistic:       </th> <td>   1.964</td>\n",
       "</tr>\n",
       "<tr>\n",
       "  <th>Date:</th>             <td>Tue, 05 Dec 2023</td> <th>  Prob (F-statistic):</th>  <td>0.0528</td> \n",
       "</tr>\n",
       "<tr>\n",
       "  <th>Time:</th>                 <td>23:24:25</td>     <th>  Log-Likelihood:    </th> <td> -511.14</td>\n",
       "</tr>\n",
       "<tr>\n",
       "  <th>No. Observations:</th>      <td>   206</td>      <th>  AIC:               </th> <td>   1040.</td>\n",
       "</tr>\n",
       "<tr>\n",
       "  <th>Df Residuals:</th>          <td>   197</td>      <th>  BIC:               </th> <td>   1070.</td>\n",
       "</tr>\n",
       "<tr>\n",
       "  <th>Df Model:</th>              <td>     8</td>      <th>                     </th>     <td> </td>   \n",
       "</tr>\n",
       "<tr>\n",
       "  <th>Covariance Type:</th>      <td>nonrobust</td>    <th>                     </th>     <td> </td>   \n",
       "</tr>\n",
       "</table>\n",
       "<table class=\"simpletable\">\n",
       "<tr>\n",
       "       <td></td>          <th>coef</th>     <th>std err</th>      <th>t</th>      <th>P>|t|</th>  <th>[0.025</th>    <th>0.975]</th>  \n",
       "</tr>\n",
       "<tr>\n",
       "  <th>const</th>       <td>    2.1137</td> <td>    0.350</td> <td>    6.044</td> <td> 0.000</td> <td>    1.424</td> <td>    2.803</td>\n",
       "</tr>\n",
       "<tr>\n",
       "  <th>SHM</th>         <td>   -1.8226</td> <td>    3.678</td> <td>   -0.495</td> <td> 0.621</td> <td>   -9.076</td> <td>    5.431</td>\n",
       "</tr>\n",
       "<tr>\n",
       "  <th>SHST</th>        <td>   -1.9923</td> <td>    2.516</td> <td>   -0.792</td> <td> 0.429</td> <td>   -6.954</td> <td>    2.970</td>\n",
       "</tr>\n",
       "<tr>\n",
       "  <th>DummyBANKS</th>  <td>   -1.0010</td> <td>    0.846</td> <td>   -1.184</td> <td> 0.238</td> <td>   -2.669</td> <td>    0.667</td>\n",
       "</tr>\n",
       "<tr>\n",
       "  <th>DummyElecUt</th> <td>   -1.2091</td> <td>    0.514</td> <td>   -2.353</td> <td> 0.020</td> <td>   -2.223</td> <td>   -0.196</td>\n",
       "</tr>\n",
       "<tr>\n",
       "  <th>overvalSHM</th>  <td>    3.3210</td> <td>    1.857</td> <td>    1.788</td> <td> 0.075</td> <td>   -0.342</td> <td>    6.984</td>\n",
       "</tr>\n",
       "<tr>\n",
       "  <th>overvalSHST</th> <td>    1.0075</td> <td>    0.962</td> <td>    1.047</td> <td> 0.296</td> <td>   -0.890</td> <td>    2.905</td>\n",
       "</tr>\n",
       "<tr>\n",
       "  <th>SqSHM</th>       <td>   -0.7903</td> <td>    4.581</td> <td>   -0.173</td> <td> 0.863</td> <td>   -9.825</td> <td>    8.244</td>\n",
       "</tr>\n",
       "<tr>\n",
       "  <th>SqSHST</th>      <td>    0.6356</td> <td>    2.826</td> <td>    0.225</td> <td> 0.822</td> <td>   -4.937</td> <td>    6.209</td>\n",
       "</tr>\n",
       "</table>\n",
       "<table class=\"simpletable\">\n",
       "<tr>\n",
       "  <th>Omnibus:</th>       <td>116.228</td> <th>  Durbin-Watson:     </th> <td>   2.229</td>\n",
       "</tr>\n",
       "<tr>\n",
       "  <th>Prob(Omnibus):</th> <td> 0.000</td>  <th>  Jarque-Bera (JB):  </th> <td>1787.715</td>\n",
       "</tr>\n",
       "<tr>\n",
       "  <th>Skew:</th>          <td> 1.762</td>  <th>  Prob(JB):          </th> <td>    0.00</td>\n",
       "</tr>\n",
       "<tr>\n",
       "  <th>Kurtosis:</th>      <td>16.995</td>  <th>  Cond. No.          </th> <td>    31.3</td>\n",
       "</tr>\n",
       "</table><br/><br/>Notes:<br/>[1] Standard Errors assume that the covariance matrix of the errors is correctly specified."
      ],
      "text/plain": [
       "<class 'statsmodels.iolib.summary.Summary'>\n",
       "\"\"\"\n",
       "                            OLS Regression Results                            \n",
       "==============================================================================\n",
       "Dep. Variable:                     MB   R-squared:                       0.074\n",
       "Model:                            OLS   Adj. R-squared:                  0.036\n",
       "Method:                 Least Squares   F-statistic:                     1.964\n",
       "Date:                Tue, 05 Dec 2023   Prob (F-statistic):             0.0528\n",
       "Time:                        23:24:25   Log-Likelihood:                -511.14\n",
       "No. Observations:                 206   AIC:                             1040.\n",
       "Df Residuals:                     197   BIC:                             1070.\n",
       "Df Model:                           8                                         \n",
       "Covariance Type:            nonrobust                                         \n",
       "===============================================================================\n",
       "                  coef    std err          t      P>|t|      [0.025      0.975]\n",
       "-------------------------------------------------------------------------------\n",
       "const           2.1137      0.350      6.044      0.000       1.424       2.803\n",
       "SHM            -1.8226      3.678     -0.495      0.621      -9.076       5.431\n",
       "SHST           -1.9923      2.516     -0.792      0.429      -6.954       2.970\n",
       "DummyBANKS     -1.0010      0.846     -1.184      0.238      -2.669       0.667\n",
       "DummyElecUt    -1.2091      0.514     -2.353      0.020      -2.223      -0.196\n",
       "overvalSHM      3.3210      1.857      1.788      0.075      -0.342       6.984\n",
       "overvalSHST     1.0075      0.962      1.047      0.296      -0.890       2.905\n",
       "SqSHM          -0.7903      4.581     -0.173      0.863      -9.825       8.244\n",
       "SqSHST          0.6356      2.826      0.225      0.822      -4.937       6.209\n",
       "==============================================================================\n",
       "Omnibus:                      116.228   Durbin-Watson:                   2.229\n",
       "Prob(Omnibus):                  0.000   Jarque-Bera (JB):             1787.715\n",
       "Skew:                           1.762   Prob(JB):                         0.00\n",
       "Kurtosis:                      16.995   Cond. No.                         31.3\n",
       "==============================================================================\n",
       "\n",
       "Notes:\n",
       "[1] Standard Errors assume that the covariance matrix of the errors is correctly specified.\n",
       "\"\"\""
      ]
     },
     "execution_count": 142,
     "metadata": {},
     "output_type": "execute_result"
    }
   ],
   "source": [
    "# performing the regression and fitting the second model\n",
    "ols2 = sm.OLS(dep_var, expl_var2).fit()\n",
    "ols2.summary()"
   ]
  },
  {
   "cell_type": "markdown",
   "id": "a88ce0d2",
   "metadata": {
    "papermill": {
     "duration": 0.011533,
     "end_time": "2022-09-18T11:15:34.540662",
     "exception": false,
     "start_time": "2022-09-18T11:15:34.529129",
     "status": "completed"
    },
    "tags": []
   },
   "source": [
    "The second model includes the squared values of the managerial and state shareholdings:\n",
    "𝑀B = 2.11 − 1.82 ∗ SHM − 1.99 ∗ SHST − 0.79 ∗ SqSHM + 0.64 ∗ SHST − 1.21 ∗ DummyElecUt + 3.32 ∗ overvalSHM + 1.01 ∗ OvervalSTST + 𝜀\n",
    "\n",
    "As in the first regression, only the dummy variable for electric utilities and the constant term are statistically significant. However, the coefficient for the dummy variable related to electric utilities is slightly lower than in the first regression. In contrast to the previous regression, the variables are not jointly significant. Both models also demonstrate no association between managerial shareholdings and M/B, as well as no relationship between state shareholdings and M/B"
   ]
  },
  {
   "cell_type": "code",
   "execution_count": 143,
   "id": "4258be1f",
   "metadata": {
    "execution": {
     "iopub.execute_input": "2022-09-18T11:15:34.567899Z",
     "iopub.status.busy": "2022-09-18T11:15:34.566718Z",
     "iopub.status.idle": "2022-09-18T11:15:34.827957Z",
     "shell.execute_reply": "2022-09-18T11:15:34.826583Z"
    },
    "papermill": {
     "duration": 0.277584,
     "end_time": "2022-09-18T11:15:34.830480",
     "exception": false,
     "start_time": "2022-09-18T11:15:34.552896",
     "status": "completed"
    },
    "tags": []
   },
   "outputs": [
    {
     "data": {
      "image/png": "[encoded data removed]",
      "text/plain": [
       "<Figure size 576x432 with 1 Axes>"
      ]
     },
     "metadata": {
      "needs_background": "light"
     },
     "output_type": "display_data"
    }
   ],
   "source": [
    "# plotting the relationship between Shares of managers and MB\n",
    "plt.scatter(df['SHM'], df['MB'])\n",
    "plt.rcParams['figure.figsize'] = 8, 6"
   ]
  },
  {
   "cell_type": "markdown",
   "id": "99524752",
   "metadata": {
    "papermill": {
     "duration": 0.011823,
     "end_time": "2022-09-18T11:15:34.854598",
     "exception": false,
     "start_time": "2022-09-18T11:15:34.842775",
     "status": "completed"
    },
    "tags": []
   },
   "source": [
    "The plot depicting M/B and managerial shareholdings provides further evidence of the absence of any observable relationship between these variables."
   ]
  },
  {
   "cell_type": "code",
   "execution_count": 144,
   "id": "45582fc8",
   "metadata": {
    "execution": {
     "iopub.execute_input": "2022-09-18T11:15:34.881000Z",
     "iopub.status.busy": "2022-09-18T11:15:34.880595Z",
     "iopub.status.idle": "2022-09-18T11:15:35.119836Z",
     "shell.execute_reply": "2022-09-18T11:15:35.118232Z"
    },
    "papermill": {
     "duration": 0.256115,
     "end_time": "2022-09-18T11:15:35.122984",
     "exception": false,
     "start_time": "2022-09-18T11:15:34.866869",
     "status": "completed"
    },
    "tags": []
   },
   "outputs": [
    {
     "data": {
      "image/png": "[encoded data removed]",
      "text/plain": [
       "<Figure size 576x432 with 1 Axes>"
      ]
     },
     "metadata": {
      "needs_background": "light"
     },
     "output_type": "display_data"
    }
   ],
   "source": [
    "# plotting the relationship between Shares of State and MB\n",
    "plt.scatter(df['SHST'], df['MB'])\n",
    "plt.rcParams['figure.figsize'] = 8, 6"
   ]
  },
  {
   "cell_type": "markdown",
   "id": "578ed9fa",
   "metadata": {
    "papermill": {
     "duration": 0.012293,
     "end_time": "2022-09-18T11:15:35.148593",
     "exception": false,
     "start_time": "2022-09-18T11:15:35.136300",
     "status": "completed"
    },
    "tags": []
   },
   "source": [
    "A similar conclusion applies to the relationship between M/B and state shareholdings. When state shareholdings are close to 0, M/B fluctuates in both directions."
   ]
  },
  {
   "cell_type": "code",
   "execution_count": 145,
   "id": "877fd4cc",
   "metadata": {
    "execution": {
     "iopub.execute_input": "2022-09-18T11:15:35.176071Z",
     "iopub.status.busy": "2022-09-18T11:15:35.175595Z",
     "iopub.status.idle": "2022-09-18T11:15:35.411146Z",
     "shell.execute_reply": "2022-09-18T11:15:35.409802Z"
    },
    "papermill": {
     "duration": 0.252749,
     "end_time": "2022-09-18T11:15:35.413879",
     "exception": false,
     "start_time": "2022-09-18T11:15:35.161130",
     "status": "completed"
    },
    "tags": []
   },
   "outputs": [
    {
     "data": {
      "image/png": "[encoded data removed]",
      "text/plain": [
       "<Figure size 576x432 with 1 Axes>"
      ]
     },
     "metadata": {
      "needs_background": "light"
     },
     "output_type": "display_data"
    }
   ],
   "source": [
    "# plotting the relationship between Squared value of SHM and MB\n",
    "plt.scatter(df['SqSHM'], df['MB'])\n",
    "plt.rcParams['figure.figsize'] = 8, 6"
   ]
  },
  {
   "cell_type": "code",
   "execution_count": 146,
   "id": "d4b5f419",
   "metadata": {
    "execution": {
     "iopub.execute_input": "2022-09-18T11:15:35.442509Z",
     "iopub.status.busy": "2022-09-18T11:15:35.441992Z",
     "iopub.status.idle": "2022-09-18T11:15:35.689743Z",
     "shell.execute_reply": "2022-09-18T11:15:35.688334Z"
    },
    "papermill": {
     "duration": 0.265101,
     "end_time": "2022-09-18T11:15:35.692340",
     "exception": false,
     "start_time": "2022-09-18T11:15:35.427239",
     "status": "completed"
    },
    "tags": []
   },
   "outputs": [
    {
     "data": {
      "image/png": "[encoded data removed]",
      "text/plain": [
       "<Figure size 576x432 with 1 Axes>"
      ]
     },
     "metadata": {
      "needs_background": "light"
     },
     "output_type": "display_data"
    }
   ],
   "source": [
    "# plotting the relationship between Squared value of SHST and MB\n",
    "plt.scatter(df['SqSHST'], df['MB'])\n",
    "plt.rcParams['figure.figsize'] = 8, 6"
   ]
  },
  {
   "cell_type": "markdown",
   "id": "8ecae5af",
   "metadata": {
    "papermill": {
     "duration": 0.012711,
     "end_time": "2022-09-18T11:15:35.718257",
     "exception": false,
     "start_time": "2022-09-18T11:15:35.705546",
     "status": "completed"
    },
    "tags": []
   },
   "source": [
    "The figures for SqSHS and SHST show no association between M/B and the squared values of managerial and state shareholdings. Besides examining the relationship between explanatory and dependent variables, it's important to explore the relationships among explanatory variables. There is a moderate negative correlation (-0.31) between state shareholdings and managerial shareholdings. This is expected because state-owned entities typically don't provide stock options or stocks to their management boards. While some state-owned companies may offer stock options, the granted amounts are negligible. However, the correlation's magnitude isn't high, allowing us to use both variables simultaneously in one model. There's also a correlation between the dummy variables, as anticipated. None of the other variables exhibits noteworthy correlations. After running a single OLS regression of M/B on managerial and state shareholdings, along with squared values of shares owned by managers and state, I test the endogeneity of management ownership using two-stage least squares regression. Long-term debt and capital expenditures relative to assets serve as instrumental (control) variables for this purpose:"
   ]
  },
  {
   "cell_type": "code",
   "execution_count": 147,
   "id": "dc17e575",
   "metadata": {
    "execution": {
     "iopub.execute_input": "2022-09-18T11:15:35.747979Z",
     "iopub.status.busy": "2022-09-18T11:15:35.747472Z",
     "iopub.status.idle": "2022-09-18T11:15:35.790418Z",
     "shell.execute_reply": "2022-09-18T11:15:35.788659Z"
    },
    "papermill": {
     "duration": 0.063298,
     "end_time": "2022-09-18T11:15:35.795144",
     "exception": false,
     "start_time": "2022-09-18T11:15:35.731846",
     "status": "completed"
    },
    "tags": []
   },
   "outputs": [],
   "source": [
    "# testing the management ownership for endogeneity\n",
    "# 2SLS using debt and CAPEX to assets as instrumental variables\n",
    "model = 'MB ~ 1 + SHST + SqSHM + \\\n",
    "        SqSHST + DummyBANKS + DummyElecUt \\\n",
    "        + overvalSHM + overvalSHST + [SHM ~ \\\n",
    "        CXP_Assets + LTD_Assets]'\n",
    "Twostage = IV2SLS.from_formula(model, df).fit()"
   ]
  },
  {
   "cell_type": "code",
   "execution_count": 148,
   "id": "104ce626",
   "metadata": {
    "execution": {
     "iopub.execute_input": "2022-09-18T11:15:35.864984Z",
     "iopub.status.busy": "2022-09-18T11:15:35.863879Z",
     "iopub.status.idle": "2022-09-18T11:15:35.898471Z",
     "shell.execute_reply": "2022-09-18T11:15:35.895114Z"
    },
    "papermill": {
     "duration": 0.076497,
     "end_time": "2022-09-18T11:15:35.904748",
     "exception": false,
     "start_time": "2022-09-18T11:15:35.828251",
     "status": "completed"
    },
    "tags": []
   },
   "outputs": [
    {
     "name": "stdout",
     "output_type": "stream",
     "text": [
      "                          IV-2SLS Estimation Summary                          \n",
      "==============================================================================\n",
      "Dep. Variable:                     MB   R-squared:                      0.0052\n",
      "Estimator:                    IV-2SLS   Adj. R-squared:                -0.0352\n",
      "No. Observations:                 206   F-statistic:                    40.600\n",
      "Date:                Tue, Dec 05 2023   P-value (F-stat)                0.0000\n",
      "Time:                        23:24:25   Distribution:                  chi2(8)\n",
      "Cov. Estimator:                robust                                         \n",
      "                                                                              \n",
      "                              Parameter Estimates                              \n",
      "===============================================================================\n",
      "             Parameter  Std. Err.     T-stat    P-value    Lower CI    Upper CI\n",
      "-------------------------------------------------------------------------------\n",
      "Intercept       1.6126     1.1684     1.3802     0.1675     -0.6774      3.9025\n",
      "DummyBANKS     -0.7601     0.6768    -1.1230     0.2614     -2.0867      0.5665\n",
      "DummyElecUt    -0.9269     0.8595    -1.0784     0.2809     -2.6115      0.7577\n",
      "SHST           -1.1878     3.5816    -0.3316     0.7402     -8.2075      5.8319\n",
      "SqSHM          -17.035     33.863    -0.5031     0.6149     -83.406      49.335\n",
      "SqSHST          0.2290     3.5297     0.0649     0.9483     -6.6890      7.1471\n",
      "overvalSHM      0.1812     6.7941     0.0267     0.9787     -13.135      13.497\n",
      "overvalSHST     1.0522     0.9919     1.0608     0.2888     -0.8919      2.9964\n",
      "SHM             12.233     29.363     0.4166     0.6770     -45.318      69.783\n",
      "===============================================================================\n",
      "\n",
      "Endogenous: SHM\n",
      "Instruments: CXP_Assets, LTD_Assets\n",
      "Robust Covariance (Heteroskedastic)\n",
      "Debiased: False\n"
     ]
    }
   ],
   "source": [
    "# printing 2SLS(1)\n",
    "print(Twostage)"
   ]
  },
  {
   "cell_type": "markdown",
   "id": "accddc1e",
   "metadata": {
    "papermill": {
     "duration": 0.013326,
     "end_time": "2022-09-18T11:15:35.932517",
     "exception": false,
     "start_time": "2022-09-18T11:15:35.919191",
     "status": "completed"
    },
    "tags": []
   },
   "source": [
    "MB = 1.61 + 12.23 ∗ SHM −1.19 ∗ SHST − 17.04 ∗ SqSHM + 0.23 ∗ SqSHST − 0.76 ∗ DummyBANKS − 0.93 ∗ DummyElecUt + 0.18 ∗ overvalSHM + 1.05 ∗ overvalSHST + 𝜀\n",
    "\n",
    "The two-stage least squares regression produces statistically insignificant results. More precisely, all the coefficients are not statistically significant. Furthermore, all the explanatory variables are not jointly significant."
   ]
  },
  {
   "cell_type": "code",
   "execution_count": 149,
   "id": "5b1962c8",
   "metadata": {
    "execution": {
     "iopub.execute_input": "2022-09-18T11:15:35.964347Z",
     "iopub.status.busy": "2022-09-18T11:15:35.963829Z",
     "iopub.status.idle": "2022-09-18T11:15:36.014909Z",
     "shell.execute_reply": "2022-09-18T11:15:36.012485Z"
    },
    "papermill": {
     "duration": 0.072652,
     "end_time": "2022-09-18T11:15:36.020549",
     "exception": false,
     "start_time": "2022-09-18T11:15:35.947897",
     "status": "completed"
    },
    "tags": []
   },
   "outputs": [],
   "source": [
    "# 2SLS using debt and CAPEX to assets as instrumental variables with robust standard errors\n",
    "Twostage2 = IV2SLS.from_formula(model, df).fit(cov_type='robust')"
   ]
  },
  {
   "cell_type": "code",
   "execution_count": 150,
   "id": "fb6dce48",
   "metadata": {
    "execution": {
     "iopub.execute_input": "2022-09-18T11:15:36.108965Z",
     "iopub.status.busy": "2022-09-18T11:15:36.107974Z",
     "iopub.status.idle": "2022-09-18T11:15:36.137867Z",
     "shell.execute_reply": "2022-09-18T11:15:36.136532Z"
    },
    "papermill": {
     "duration": 0.072296,
     "end_time": "2022-09-18T11:15:36.142479",
     "exception": false,
     "start_time": "2022-09-18T11:15:36.070183",
     "status": "completed"
    },
    "tags": []
   },
   "outputs": [
    {
     "name": "stdout",
     "output_type": "stream",
     "text": [
      "                          IV-2SLS Estimation Summary                          \n",
      "==============================================================================\n",
      "Dep. Variable:                     MB   R-squared:                      0.0052\n",
      "Estimator:                    IV-2SLS   Adj. R-squared:                -0.0352\n",
      "No. Observations:                 206   F-statistic:                    40.600\n",
      "Date:                Tue, Dec 05 2023   P-value (F-stat)                0.0000\n",
      "Time:                        23:24:25   Distribution:                  chi2(8)\n",
      "Cov. Estimator:                robust                                         \n",
      "                                                                              \n",
      "                              Parameter Estimates                              \n",
      "===============================================================================\n",
      "             Parameter  Std. Err.     T-stat    P-value    Lower CI    Upper CI\n",
      "-------------------------------------------------------------------------------\n",
      "Intercept       1.6126     1.1684     1.3802     0.1675     -0.6774      3.9025\n",
      "DummyBANKS     -0.7601     0.6768    -1.1230     0.2614     -2.0867      0.5665\n",
      "DummyElecUt    -0.9269     0.8595    -1.0784     0.2809     -2.6115      0.7577\n",
      "SHST           -1.1878     3.5816    -0.3316     0.7402     -8.2075      5.8319\n",
      "SqSHM          -17.035     33.863    -0.5031     0.6149     -83.406      49.335\n",
      "SqSHST          0.2290     3.5297     0.0649     0.9483     -6.6890      7.1471\n",
      "overvalSHM      0.1812     6.7941     0.0267     0.9787     -13.135      13.497\n",
      "overvalSHST     1.0522     0.9919     1.0608     0.2888     -0.8919      2.9964\n",
      "SHM             12.233     29.363     0.4166     0.6770     -45.318      69.783\n",
      "===============================================================================\n",
      "\n",
      "Endogenous: SHM\n",
      "Instruments: CXP_Assets, LTD_Assets\n",
      "Robust Covariance (Heteroskedastic)\n",
      "Debiased: False\n"
     ]
    }
   ],
   "source": [
    "# printing 2SLS(2)\n",
    "print(Twostage2)"
   ]
  },
  {
   "cell_type": "code",
   "execution_count": 151,
   "id": "e4938954",
   "metadata": {
    "execution": {
     "iopub.execute_input": "2022-09-18T11:15:36.172909Z",
     "iopub.status.busy": "2022-09-18T11:15:36.172176Z",
     "iopub.status.idle": "2022-09-18T11:15:36.197690Z",
     "shell.execute_reply": "2022-09-18T11:15:36.196299Z"
    },
    "papermill": {
     "duration": 0.045132,
     "end_time": "2022-09-18T11:15:36.202119",
     "exception": false,
     "start_time": "2022-09-18T11:15:36.156987",
     "status": "completed"
    },
    "tags": []
   },
   "outputs": [
    {
     "name": "stdout",
     "output_type": "stream",
     "text": [
      "Wu-Hausman test of exogeneity\n",
      "H0: All endogenous variables are exogenous\n",
      "Statistic: 0.3076\n",
      "P-value: 0.5798\n",
      "Distributed: F(1,196)\n"
     ]
    }
   ],
   "source": [
    "# The endogeneity test (Wu-Hausman)\n",
    "print(Twostage.wu_hausman())"
   ]
  },
  {
   "cell_type": "markdown",
   "id": "de221e70",
   "metadata": {
    "papermill": {
     "duration": 0.033474,
     "end_time": "2022-09-18T11:15:36.270211",
     "exception": false,
     "start_time": "2022-09-18T11:15:36.236737",
     "status": "completed"
    },
    "tags": []
   },
   "source": [
    "After performing the two-stage least squares regression on M/B, I conducted an endogeneity test to determine whether the explanatory variables in the model influence managerial shareholdings. The results of the endogeneity test suggest that we cannot reject the null hypothesis, indicating that the managerial share variable is exogenous (p-values>0.05). Consequently, I proceeded to further examine the single OLS regressions. Specifically, I focused on the first OLS model since it yielded two statistically significant coefficients. To assess this model for heteroscedasticity, I created a plot of residuals against fitted values."
   ]
  },
  {
   "cell_type": "code",
   "execution_count": 152,
   "id": "34f82f39",
   "metadata": {
    "execution": {
     "iopub.execute_input": "2022-09-18T11:15:36.321980Z",
     "iopub.status.busy": "2022-09-18T11:15:36.321471Z",
     "iopub.status.idle": "2022-09-18T11:15:36.327711Z",
     "shell.execute_reply": "2022-09-18T11:15:36.326356Z"
    },
    "papermill": {
     "duration": 0.026135,
     "end_time": "2022-09-18T11:15:36.330329",
     "exception": false,
     "start_time": "2022-09-18T11:15:36.304194",
     "status": "completed"
    },
    "tags": []
   },
   "outputs": [],
   "source": [
    "# plotting residual vs fitted values\n",
    "# fitted values\n",
    "model_fitted_y = ols.fittedvalues"
   ]
  },
  {
   "cell_type": "code",
   "execution_count": 153,
   "id": "24939b0a",
   "metadata": {
    "execution": {
     "iopub.execute_input": "2022-09-18T11:15:36.360613Z",
     "iopub.status.busy": "2022-09-18T11:15:36.360116Z",
     "iopub.status.idle": "2022-09-18T11:15:36.648677Z",
     "shell.execute_reply": "2022-09-18T11:15:36.647450Z"
    },
    "papermill": {
     "duration": 0.306941,
     "end_time": "2022-09-18T11:15:36.651357",
     "exception": false,
     "start_time": "2022-09-18T11:15:36.344416",
     "status": "completed"
    },
    "tags": []
   },
   "outputs": [
    {
     "data": {
      "text/plain": [
       "Text(0, 0.5, 'Residuals')"
      ]
     },
     "execution_count": 153,
     "metadata": {},
     "output_type": "execute_result"
    },
    {
     "data": {
      "image/png": "[encoded data removed]",
      "text/plain": [
       "<Figure size 576x432 with 1 Axes>"
      ]
     },
     "metadata": {
      "needs_background": "light"
     },
     "output_type": "display_data"
    }
   ],
   "source": [
    "# plot\n",
    "plot = sns.residplot(x=model_fitted_y, y='MB', data=df, lowess=True,\n",
    "                     scatter_kws={'alpha': 0.5},\n",
    "                     line_kws={'color': 'red', 'lw': 1, 'alpha': 0.8})\n",
    "# title and labels\n",
    "plot.set_title('Residuals vs Fitted')\n",
    "plot.set_xlabel('Fitted values')\n",
    "plot.set_ylabel('Residuals')"
   ]
  },
  {
   "cell_type": "markdown",
   "id": "c3db4854",
   "metadata": {
    "papermill": {
     "duration": 0.013886,
     "end_time": "2022-09-18T11:15:36.679549",
     "exception": false,
     "start_time": "2022-09-18T11:15:36.665663",
     "status": "completed"
    },
    "tags": []
   },
   "source": [
    "The plot indicates that the variance of the error term is not constant, suggesting the presence of heteroscedasticity in the model. After the graphical analysis, I conducted a formal test to confirm the presence of heteroscedasticity."
   ]
  },
  {
   "cell_type": "code",
   "execution_count": 154,
   "id": "8d0c7a78",
   "metadata": {
    "execution": {
     "iopub.execute_input": "2022-09-18T11:15:36.709864Z",
     "iopub.status.busy": "2022-09-18T11:15:36.709327Z",
     "iopub.status.idle": "2022-09-18T11:15:36.719319Z",
     "shell.execute_reply": "2022-09-18T11:15:36.717690Z"
    },
    "papermill": {
     "duration": 0.02887,
     "end_time": "2022-09-18T11:15:36.722359",
     "exception": false,
     "start_time": "2022-09-18T11:15:36.693489",
     "status": "completed"
    },
    "tags": []
   },
   "outputs": [],
   "source": [
    "# White's test for heteroscedasticity\n",
    "white_test = het_white(ols.resid,  ols.model.exog)"
   ]
  },
  {
   "cell_type": "code",
   "execution_count": 155,
   "id": "af8fcbf1",
   "metadata": {
    "execution": {
     "iopub.execute_input": "2022-09-18T11:15:36.752454Z",
     "iopub.status.busy": "2022-09-18T11:15:36.752035Z",
     "iopub.status.idle": "2022-09-18T11:15:36.758055Z",
     "shell.execute_reply": "2022-09-18T11:15:36.756646Z"
    },
    "papermill": {
     "duration": 0.024041,
     "end_time": "2022-09-18T11:15:36.760634",
     "exception": false,
     "start_time": "2022-09-18T11:15:36.736593",
     "status": "completed"
    },
    "tags": []
   },
   "outputs": [],
   "source": [
    "# defining labels to use for output of White's test\n",
    "labels = ['Test Statistic', 'Test Statistic p-value',\n",
    "          'F-Statistic', 'F-Test p-value']"
   ]
  },
  {
   "cell_type": "code",
   "execution_count": 156,
   "id": "cd365529",
   "metadata": {
    "execution": {
     "iopub.execute_input": "2022-09-18T11:15:36.791819Z",
     "iopub.status.busy": "2022-09-18T11:15:36.790499Z",
     "iopub.status.idle": "2022-09-18T11:15:36.798256Z",
     "shell.execute_reply": "2022-09-18T11:15:36.796649Z"
    },
    "papermill": {
     "duration": 0.026744,
     "end_time": "2022-09-18T11:15:36.801365",
     "exception": false,
     "start_time": "2022-09-18T11:15:36.774621",
     "status": "completed"
    },
    "tags": []
   },
   "outputs": [
    {
     "name": "stdout",
     "output_type": "stream",
     "text": [
      "{'Test Statistic': 14.286726199539306, 'Test Statistic p-value': 0.8156657355441042, 'F-Statistic': 0.6893222087651875, 'F-Test p-value': 0.8338358462665632}\n"
     ]
    }
   ],
   "source": [
    "# printing out the results of White's test\n",
    "print(dict(zip(labels, white_test)))"
   ]
  },
  {
   "cell_type": "markdown",
   "id": "cce4c61d",
   "metadata": {
    "papermill": {
     "duration": 0.014937,
     "end_time": "2022-09-18T11:15:36.831878",
     "exception": false,
     "start_time": "2022-09-18T11:15:36.816941",
     "status": "completed"
    },
    "tags": []
   },
   "source": [
    "The White test concludes that we cannot reject the null hypothesis that the error term has a constant variance. Therefore, there is no heteroscedasticity issue in the model.\n",
    "However, even if there is no heteroscedasticity, the robust standard errors transform in conventional OLS standard errors. Thus, the robust standard errors are appropriate, even under homoscedasticity. For this reason, I run a model to get a robust standard error."
   ]
  },
  {
   "cell_type": "code",
   "execution_count": 157,
   "id": "70e15415",
   "metadata": {
    "execution": {
     "iopub.execute_input": "2022-09-18T11:15:36.864719Z",
     "iopub.status.busy": "2022-09-18T11:15:36.863213Z",
     "iopub.status.idle": "2022-09-18T11:15:36.891395Z",
     "shell.execute_reply": "2022-09-18T11:15:36.889628Z"
    },
    "papermill": {
     "duration": 0.047812,
     "end_time": "2022-09-18T11:15:36.894689",
     "exception": false,
     "start_time": "2022-09-18T11:15:36.846877",
     "status": "completed"
    },
    "tags": []
   },
   "outputs": [
    {
     "data": {
      "text/html": [
       "<table class=\"simpletable\">\n",
       "<caption>OLS Regression Results</caption>\n",
       "<tr>\n",
       "  <th>Dep. Variable:</th>           <td>MB</td>        <th>  R-squared:         </th> <td>   0.073</td>\n",
       "</tr>\n",
       "<tr>\n",
       "  <th>Model:</th>                   <td>OLS</td>       <th>  Adj. R-squared:    </th> <td>   0.046</td>\n",
       "</tr>\n",
       "<tr>\n",
       "  <th>Method:</th>             <td>Least Squares</td>  <th>  F-statistic:       </th> <td>   5.909</td>\n",
       "</tr>\n",
       "<tr>\n",
       "  <th>Date:</th>             <td>Tue, 05 Dec 2023</td> <th>  Prob (F-statistic):</th> <td>1.07e-05</td>\n",
       "</tr>\n",
       "<tr>\n",
       "  <th>Time:</th>                 <td>23:24:25</td>     <th>  Log-Likelihood:    </th> <td> -511.18</td>\n",
       "</tr>\n",
       "<tr>\n",
       "  <th>No. Observations:</th>      <td>   206</td>      <th>  AIC:               </th> <td>   1036.</td>\n",
       "</tr>\n",
       "<tr>\n",
       "  <th>Df Residuals:</th>          <td>   199</td>      <th>  BIC:               </th> <td>   1060.</td>\n",
       "</tr>\n",
       "<tr>\n",
       "  <th>Df Model:</th>              <td>     6</td>      <th>                     </th>     <td> </td>   \n",
       "</tr>\n",
       "<tr>\n",
       "  <th>Covariance Type:</th>         <td>HC3</td>       <th>                     </th>     <td> </td>   \n",
       "</tr>\n",
       "</table>\n",
       "<table class=\"simpletable\">\n",
       "<tr>\n",
       "       <td></td>          <th>coef</th>     <th>std err</th>      <th>z</th>      <th>P>|z|</th>  <th>[0.025</th>    <th>0.975]</th>  \n",
       "</tr>\n",
       "<tr>\n",
       "  <th>const</th>       <td>    2.1150</td> <td>    0.335</td> <td>    6.323</td> <td> 0.000</td> <td>    1.459</td> <td>    2.771</td>\n",
       "</tr>\n",
       "<tr>\n",
       "  <th>SHM</th>         <td>   -2.3904</td> <td>    0.623</td> <td>   -3.835</td> <td> 0.000</td> <td>   -3.612</td> <td>   -1.169</td>\n",
       "</tr>\n",
       "<tr>\n",
       "  <th>SHST</th>        <td>   -1.4668</td> <td>    0.490</td> <td>   -2.994</td> <td> 0.003</td> <td>   -2.427</td> <td>   -0.506</td>\n",
       "</tr>\n",
       "<tr>\n",
       "  <th>DummyBANKS</th>  <td>   -1.0072</td> <td>    0.353</td> <td>   -2.855</td> <td> 0.004</td> <td>   -1.699</td> <td>   -0.316</td>\n",
       "</tr>\n",
       "<tr>\n",
       "  <th>DummyElecUt</th> <td>   -1.2385</td> <td>    0.579</td> <td>   -2.139</td> <td> 0.032</td> <td>   -2.374</td> <td>   -0.104</td>\n",
       "</tr>\n",
       "<tr>\n",
       "  <th>overvalSHM</th>  <td>    3.3948</td> <td>    1.160</td> <td>    2.926</td> <td> 0.003</td> <td>    1.121</td> <td>    5.668</td>\n",
       "</tr>\n",
       "<tr>\n",
       "  <th>overvalSHST</th> <td>    0.9929</td> <td>    1.023</td> <td>    0.970</td> <td> 0.332</td> <td>   -1.013</td> <td>    2.999</td>\n",
       "</tr>\n",
       "</table>\n",
       "<table class=\"simpletable\">\n",
       "<tr>\n",
       "  <th>Omnibus:</th>       <td>115.163</td> <th>  Durbin-Watson:     </th> <td>   2.227</td>\n",
       "</tr>\n",
       "<tr>\n",
       "  <th>Prob(Omnibus):</th> <td> 0.000</td>  <th>  Jarque-Bera (JB):  </th> <td>1744.237</td>\n",
       "</tr>\n",
       "<tr>\n",
       "  <th>Skew:</th>          <td> 1.745</td>  <th>  Prob(JB):          </th> <td>    0.00</td>\n",
       "</tr>\n",
       "<tr>\n",
       "  <th>Kurtosis:</th>      <td>16.822</td>  <th>  Cond. No.          </th> <td>    10.9</td>\n",
       "</tr>\n",
       "</table><br/><br/>Notes:<br/>[1] Standard Errors are heteroscedasticity robust (HC3)"
      ],
      "text/plain": [
       "<class 'statsmodels.iolib.summary.Summary'>\n",
       "\"\"\"\n",
       "                            OLS Regression Results                            \n",
       "==============================================================================\n",
       "Dep. Variable:                     MB   R-squared:                       0.073\n",
       "Model:                            OLS   Adj. R-squared:                  0.046\n",
       "Method:                 Least Squares   F-statistic:                     5.909\n",
       "Date:                Tue, 05 Dec 2023   Prob (F-statistic):           1.07e-05\n",
       "Time:                        23:24:25   Log-Likelihood:                -511.18\n",
       "No. Observations:                 206   AIC:                             1036.\n",
       "Df Residuals:                     199   BIC:                             1060.\n",
       "Df Model:                           6                                         \n",
       "Covariance Type:                  HC3                                         \n",
       "===============================================================================\n",
       "                  coef    std err          z      P>|z|      [0.025      0.975]\n",
       "-------------------------------------------------------------------------------\n",
       "const           2.1150      0.335      6.323      0.000       1.459       2.771\n",
       "SHM            -2.3904      0.623     -3.835      0.000      -3.612      -1.169\n",
       "SHST           -1.4668      0.490     -2.994      0.003      -2.427      -0.506\n",
       "DummyBANKS     -1.0072      0.353     -2.855      0.004      -1.699      -0.316\n",
       "DummyElecUt    -1.2385      0.579     -2.139      0.032      -2.374      -0.104\n",
       "overvalSHM      3.3948      1.160      2.926      0.003       1.121       5.668\n",
       "overvalSHST     0.9929      1.023      0.970      0.332      -1.013       2.999\n",
       "==============================================================================\n",
       "Omnibus:                      115.163   Durbin-Watson:                   2.227\n",
       "Prob(Omnibus):                  0.000   Jarque-Bera (JB):             1744.237\n",
       "Skew:                           1.745   Prob(JB):                         0.00\n",
       "Kurtosis:                      16.822   Cond. No.                         10.9\n",
       "==============================================================================\n",
       "\n",
       "Notes:\n",
       "[1] Standard Errors are heteroscedasticity robust (HC3)\n",
       "\"\"\""
      ]
     },
     "execution_count": 157,
     "metadata": {},
     "output_type": "execute_result"
    }
   ],
   "source": [
    "# estimating the first model using robust errors\n",
    "ols_robust = sm.OLS(dep_var, expl_var).fit(cov_type='HC3')\n",
    "ols_robust.summary()"
   ]
  },
  {
   "cell_type": "markdown",
   "id": "896998f9",
   "metadata": {
    "papermill": {
     "duration": 0.014337,
     "end_time": "2022-09-18T11:15:36.924788",
     "exception": false,
     "start_time": "2022-09-18T11:15:36.910451",
     "status": "completed"
    },
    "tags": []
   },
   "source": [
    "The model with robust standard errors reveals six statistically significant coefficients: a constant term, managerial shareholdings, state shareholdings, a dummy variable for banks, a dummy variable for electric utilities, and an interaction variable for managerial shareholdings in overvalued companies. Additionally, all the explanatory variables jointly contribute significantly to the model.\n",
    "\n",
    "The coefficient for state ownership implies that a one-percentage-point increase in state share is associated with a reduction in the M/B ratio by 0.0147 points, while holding other factors constant. Furthermore, a one-standard-deviation increase in state share corresponds to a 0.17 standard deviation decrease in M/B, still with other variables held constant.\n",
    "\n",
    "Managerial shareholdings exert a more pronounced negative effect on M/B. Specifically, a one-percentage-point growth in managerial share results in a reduction of the M/B ratio by 0.0239 points, all else being equal. Similarly, a one-standard-deviation increase in managerial ownership leads to a 0.17 standard deviation decrease in M/B, again with other factors held constant.\n",
    "\n",
    "The interaction variable indicates that the impact of managerial shareholdings on M/B is 3.39 points stronger in overvalued firms compared to undervalued ones. This suggests that increasing stocks granted to managers in overvalued firms results in a more substantial decline in M/B, keeping other factors constant. However, the sign of the coefficient for managerial shareholdings remains puzzling.\n",
    "\n",
    "Furthermore, the presence of a dummy variable for commercial banks indicates that the M/B ratio of banks, on average, is lower by 1.01 compared to other firms."
   ]
  },
  {
   "cell_type": "markdown",
   "id": "e8bde54e",
   "metadata": {
    "papermill": {
     "duration": 0.014822,
     "end_time": "2022-09-18T11:15:36.954689",
     "exception": false,
     "start_time": "2022-09-18T11:15:36.939867",
     "status": "completed"
    },
    "tags": []
   },
   "source": [
    "## <center>Conclusion</center>\n",
    "The outcomes of both single OLS and two-stage least squares regressions yield inconclusive results. In the M/B regression, there is evidence of a statistically significant adverse effect of both managerial and state ownership on firm performance."
   ]
  }
 ],
 "metadata": {
  "kernelspec": {
   "display_name": "Python 3 (ipykernel)",
   "language": "python",
   "name": "python3"
  },
  "language_info": {
   "codemirror_mode": {
    "name": "ipython",
    "version": 3
   },
   "file_extension": ".py",
   "mimetype": "text/x-python",
   "name": "python",
   "nbconvert_exporter": "python",
   "pygments_lexer": "ipython3",
   "version": "3.9.12"
  },
  "papermill": {
   "default_parameters": {},
   "duration": 45.600048,
   "end_time": "2022-09-18T11:15:37.998458",
   "environment_variables": {},
   "exception": null,
   "input_path": "__notebook__.ipynb",
   "output_path": "__notebook__.ipynb",
   "parameters": {},
   "start_time": "2022-09-18T11:14:52.398410",
   "version": "2.3.4"
  }
 },
 "nbformat": 4,
 "nbformat_minor": 5
}
